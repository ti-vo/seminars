{
 "cells": [
  {
   "cell_type": "markdown",
   "id": "fb159548",
   "metadata": {},
   "source": [
    "### 1. How large is the rain rate for different Z-R relations with the following reflectivity factors: 25 dBZ, 35 dBZ, and 50 dBZ?\n",
    "\n",
    "#### a. Z = 104 R**1.34\n",
    "#### b. Z = 256 R**1.42\n",
    "#### c. Z = 316 R**1.5\n",
    "#### d. Z = 200 R**1.6\n"
   ]
  },
  {
   "cell_type": "code",
   "execution_count": 35,
   "id": "15ed9952",
   "metadata": {},
   "outputs": [],
   "source": [
    "import numpy as np"
   ]
  },
  {
   "cell_type": "code",
   "execution_count": 17,
   "id": "04ec5172",
   "metadata": {},
   "outputs": [],
   "source": [
    "def RR_from_Z_a(Z):\n",
    "    R = (Z/104)**(1/1.34)\n",
    "    return R\n",
    "    "
   ]
  },
  {
   "cell_type": "code",
   "execution_count": 18,
   "id": "917c2e1b",
   "metadata": {},
   "outputs": [],
   "source": [
    "def RR_from_Z_b(Z):\n",
    "    return (Z/256)**(1/1.42)\n",
    "    "
   ]
  },
  {
   "cell_type": "code",
   "execution_count": 19,
   "id": "5b38137d",
   "metadata": {},
   "outputs": [],
   "source": [
    "def RR_from_Z_c(Z):\n",
    "    return (Z/316)**(1/1.5)\n",
    "   "
   ]
  },
  {
   "cell_type": "code",
   "execution_count": 20,
   "id": "f04faba8",
   "metadata": {},
   "outputs": [],
   "source": [
    "def RR_from_Z_d(Z):\n",
    "    return (Z/200)**(1/1.6)\n",
    "    \n",
    "    "
   ]
  },
  {
   "cell_type": "code",
   "execution_count": 26,
   "id": "94be8543",
   "metadata": {},
   "outputs": [
    {
     "name": "stdout",
     "output_type": "stream",
     "text": [
      "Reflectivity: 25 dBZ,   Rain Rate (relation a): 2.2930994022503466\n",
      "Reflectivity: 25 dBZ,   Rain Rate (relation b): 1.1604321238869908\n",
      "Reflectivity: 25 dBZ,   Rain Rate (relation c): 1.0004804613167162\n",
      "Reflectivity: 25 dBZ,   Rain Rate (relation d): 1.331546240387694\n",
      "\n",
      "Reflectivity: 35 dBZ,   Rain Rate (relation a): 12.784729329359125\n",
      "Reflectivity: 35 dBZ,   Rain Rate (relation b): 5.872798428501383\n",
      "Reflectivity: 35 dBZ,   Rain Rate (relation c): 4.643818937495431\n",
      "Reflectivity: 35 dBZ,   Rain Rate (relation d): 5.615083937249651\n",
      "\n",
      "Reflectivity: 50 dBZ,   Rain Rate (relation a): 168.3040329967541\n",
      "Reflectivity: 50 dBZ,   Rain Rate (relation b): 66.8625788437981\n",
      "Reflectivity: 50 dBZ,   Rain Rate (relation c): 46.438189374954305\n",
      "Reflectivity: 50 dBZ,   Rain Rate (relation d): 48.62462362330365\n",
      "\n"
     ]
    }
   ],
   "source": [
    "Z_vals = [25, 35, 50]\n",
    "Z_vals_lin = [10**(Z/10) for Z in Z_vals]\n",
    "\n",
    "for z, z_lin in zip(Z_vals, Z_vals_lin):\n",
    "    print(f'Reflectivity: {z} dBZ,   Rain Rate (relation a): {RR_from_Z_a(z_lin)}')\n",
    "    print(f'Reflectivity: {z} dBZ,   Rain Rate (relation b): {RR_from_Z_b(z_lin)}')\n",
    "    print(f'Reflectivity: {z} dBZ,   Rain Rate (relation c): {RR_from_Z_c(z_lin)}')\n",
    "    print(f'Reflectivity: {z} dBZ,   Rain Rate (relation d): {RR_from_Z_d(z_lin)}')\n",
    "    print('')"
   ]
  },
  {
   "cell_type": "markdown",
   "id": "6e81ace3",
   "metadata": {},
   "source": [
    "### 2. How large is the error in the rain rate for a reflectivity error of 1 dB? Calculate that for 25 dBZ, 35 dBZ and 50 dbZ with one of the established Z-R relations."
   ]
  },
  {
   "cell_type": "code",
   "execution_count": 30,
   "id": "b15b75e8",
   "metadata": {},
   "outputs": [
    {
     "name": "stdout",
     "output_type": "stream",
     "text": [
      "error for 25 dBZ, relation a: 0.3620383018120781\n",
      "error for 35 dBZ, relation a: 2.018474075299997\n",
      "error for 50 dBZ, relation a: 26.57211729874078\n"
     ]
    }
   ],
   "source": [
    "for z in Z_vals:\n",
    "    print(f'error for {z} dBZ, relation a: {RR_from_Z_a(10**(z/10)) - RR_from_Z_a(10**((z-1)/10))}')"
   ]
  },
  {
   "cell_type": "markdown",
   "id": "ab278fc6",
   "metadata": {},
   "source": [
    "### 3. Which droplet size would result in a reflectivity factor Z = 30 dBZ? How many droplets d = 1 mm would also result in Z = 30 dBZ?"
   ]
  },
  {
   "cell_type": "code",
   "execution_count": 33,
   "id": "8852a65f",
   "metadata": {},
   "outputs": [
    {
     "name": "stdout",
     "output_type": "stream",
     "text": [
      "droplet size of one droplet in 1 m³ volume: 3.162277660168379 mm\n",
      "droplet number of 1 mm droplets per m³ volume: 1000.0\n"
     ]
    }
   ],
   "source": [
    "Z_lin = 10**(30/10)\n",
    "\n",
    "print(f'droplet size of one droplet in 1 m³ volume: {Z_lin**(1/6)} mm')\n",
    "\n",
    "print(f'droplet number of 1 mm droplets per m³ volume: {Z_lin/(1)}')"
   ]
  },
  {
   "cell_type": "markdown",
   "id": "38671d73",
   "metadata": {},
   "source": [
    "### 4. During a 1 km fall, the number of hydrometeors decrease by half in favour of droplet growth to double its diameter. Assuming a monodisperse spectrum, how does the reflectivity factor change?\n"
   ]
  },
  {
   "cell_type": "markdown",
   "id": "dd3e7362",
   "metadata": {},
   "source": [
    "with n2 = 0.5*n1 and D2 = 2*D1:\n",
    "\n",
    "Z2 = 0.5* n1 * (2*D1)^6\n",
    "Z2 = 0.5 * 2^6 *Z1\n"
   ]
  },
  {
   "cell_type": "code",
   "execution_count": 36,
   "id": "0c85e422",
   "metadata": {},
   "outputs": [
    {
     "data": {
      "text/plain": [
       "15.051499783199061"
      ]
     },
     "execution_count": 36,
     "metadata": {},
     "output_type": "execute_result"
    }
   ],
   "source": [
    "10*np.log10(0.5*2**6)"
   ]
  },
  {
   "cell_type": "code",
   "execution_count": null,
   "id": "d9f4b01f",
   "metadata": {},
   "outputs": [],
   "source": []
  }
 ],
 "metadata": {
  "kernelspec": {
   "display_name": "test_env",
   "language": "python",
   "name": "test_env"
  },
  "language_info": {
   "codemirror_mode": {
    "name": "ipython",
    "version": 3
   },
   "file_extension": ".py",
   "mimetype": "text/x-python",
   "name": "python",
   "nbconvert_exporter": "python",
   "pygments_lexer": "ipython3",
   "version": "3.8.2"
  }
 },
 "nbformat": 4,
 "nbformat_minor": 5
}
